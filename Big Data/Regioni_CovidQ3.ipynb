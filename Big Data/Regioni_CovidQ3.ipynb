{
  "nbformat": 4,
  "nbformat_minor": 0,
  "metadata": {
    "colab": {
      "name": "Regioni_CovidQ3.ipynb",
      "provenance": [],
      "collapsed_sections": []
    },
    "kernelspec": {
      "name": "python3",
      "display_name": "Python 3"
    }
  },
  "cells": [
    {
      "cell_type": "markdown",
      "metadata": {
        "id": "Qqdt7kv8fIzS"
      },
      "source": [
        "**Query** <br>\n",
        "Individuare per il nord, il centro e il sud le tre regioni che hanno effettuato piu tamponi dall’inizio della pandemia. Per determinare le regioni, calcolare la media aritmetica dei tamponi effettuati ogni giorno dall’inizio della pandemia. <br> <br>\n",
        "Suggerimento: per determinare le regioni appartenenti al nord, centro e sud, e possibile consultare liste staticamente definite. In alternativa, si possono utilizzare le coordinate di latitudine e longitudine fornite nel dataset. "
      ]
    },
    {
      "cell_type": "markdown",
      "metadata": {
        "id": "V7rAHE1AedwH"
      },
      "source": [
        "**Dataset** <br>\n",
        "Il dataset è organizzato secondo il seguente schema: <br>\n",
        "data | stato| codice_regione | denominazione_regione | lat | long | ricoverati_con_sintomi | terapia_intensiva | totale_ospedalizzati | isolamento_domiciliare | totale_positivi | variazione_totale_positivi | nuovi_positivi | dimessi_guariti | deceduti | totale_casi | tamponi | casi_testati | note_it | note_en\n",
        "\n",
        "data,stato,codice_regione,denominazione_regione,lat,long,ricoverati_con_sintomi,terapia_intensiva,totale_ospedalizzati,isolamento_domiciliare,totale_positivi,variazione_totale_positivi,nuovi_positivi,dimessi_guariti,deceduti,casi_da_sospetto_diagnostico,casi_da_screening,totale_casi,tamponi,casi_testati,note"
      ]
    },
    {
      "cell_type": "code",
      "metadata": {
        "id": "XXZCM-07R7DU"
      },
      "source": [
        "%%capture\n",
        "!pip install pyspark"
      ],
      "execution_count": 1,
      "outputs": []
    },
    {
      "cell_type": "code",
      "metadata": {
        "id": "h1byJAN0R-Jw"
      },
      "source": [
        "from pyspark import SparkContext"
      ],
      "execution_count": 2,
      "outputs": []
    },
    {
      "cell_type": "code",
      "metadata": {
        "id": "bKv8KjqyiOER"
      },
      "source": [
        "# SUDDIVISIONE ISTAT\n",
        "mydict = {\"Liguria\":\"nord\", \"Lombardia\":\"nord\", \"Piemonte\":\"nord\", \"Valle d'Aosta\":\"nord\", \"Emilia-Romagna\":\"nord\", \"Friuli Venezia Giulia\":\"nord\", \"P.A. Bolzano\":\"nord\", \"P.A. Trento\":\"nord\", \"Veneto\":\"nord\", \"Lazio\":\"centro\", \"Marche\":\"centro\", \"Toscana\":\"centro\", \"Umbria\":\"centro\", \"Abruzzo\":\"sud\", \"Basilicata\":\"sud\", \"Calabria\":\"sud\", \"Campania\":\"sud\", \"Molise\":\"sud\", \"Puglia\":\"sud\", \"Sardegna\":\"sud\", \"Sicilia\":\"sud\"}"
      ],
      "execution_count": 3,
      "outputs": []
    },
    {
      "cell_type": "code",
      "metadata": {
        "id": "fz0r7syI_5WL",
        "colab": {
          "base_uri": "https://localhost:8080/"
        },
        "outputId": "14b29732-a473-4c19-c24c-0cbc1da243ad"
      },
      "source": [
        "# DOWNLOAD FILE CSV\n",
        "!wget https://raw.githubusercontent.com/pcm-dpc/COVID-19/master/dati-regioni/dpc-covid19-ita-regioni.csv"
      ],
      "execution_count": 4,
      "outputs": [
        {
          "output_type": "stream",
          "text": [
            "--2021-01-18 10:17:33--  https://raw.githubusercontent.com/pcm-dpc/COVID-19/master/dati-regioni/dpc-covid19-ita-regioni.csv\n",
            "Resolving raw.githubusercontent.com (raw.githubusercontent.com)... 151.101.0.133, 151.101.64.133, 151.101.128.133, ...\n",
            "Connecting to raw.githubusercontent.com (raw.githubusercontent.com)|151.101.0.133|:443... connected.\n",
            "HTTP request sent, awaiting response... 200 OK\n",
            "Length: 974734 (952K) [text/plain]\n",
            "Saving to: ‘dpc-covid19-ita-regioni.csv’\n",
            "\n",
            "\r          dpc-covid   0%[                    ]       0  --.-KB/s               \rdpc-covid19-ita-reg 100%[===================>] 951.89K  --.-KB/s    in 0.07s   \n",
            "\n",
            "2021-01-18 10:17:33 (13.4 MB/s) - ‘dpc-covid19-ita-regioni.csv’ saved [974734/974734]\n",
            "\n"
          ],
          "name": "stdout"
        }
      ]
    },
    {
      "cell_type": "code",
      "metadata": {
        "id": "OMXCF5G0SEGf"
      },
      "source": [
        "sc = SparkContext(\"local[2]\", \"covid3\")"
      ],
      "execution_count": 5,
      "outputs": []
    },
    {
      "cell_type": "code",
      "metadata": {
        "id": "XDAnBEnDhzD9"
      },
      "source": [
        "# IMPORTO DATASET RIMUOVENDO L'HEADER\n",
        "rawData = sc.textFile(\"dpc-covid19-ita-regioni.csv\")\n",
        "header = rawData.first()\n",
        "rawData = rawData.filter(lambda line: line != header)"
      ],
      "execution_count": 6,
      "outputs": []
    },
    {
      "cell_type": "code",
      "metadata": {
        "id": "RvWsiMwEjAff",
        "colab": {
          "base_uri": "https://localhost:8080/"
        },
        "outputId": "d4cf3629-6f2a-4f48-ec1f-b4bb1eb9d0f3"
      },
      "source": [
        "rawData.take(5)"
      ],
      "execution_count": 7,
      "outputs": [
        {
          "output_type": "execute_result",
          "data": {
            "text/plain": [
              "['2020-02-24T18:00:00,ITA,13,Abruzzo,42.35122196,13.39843823,0,0,0,0,0,0,0,0,0,,,0,5,,,,,',\n",
              " '2020-02-24T18:00:00,ITA,17,Basilicata,40.63947052,15.80514834,0,0,0,0,0,0,0,0,0,,,0,0,,,,,',\n",
              " '2020-02-24T18:00:00,ITA,18,Calabria,38.90597598,16.59440194,0,0,0,0,0,0,0,0,0,,,0,1,,,,,',\n",
              " '2020-02-24T18:00:00,ITA,15,Campania,40.83956555,14.25084984,0,0,0,0,0,0,0,0,0,,,0,10,,,,,',\n",
              " '2020-02-24T18:00:00,ITA,08,Emilia-Romagna,44.49436681,11.341720800000001,10,2,12,6,18,0,18,0,0,,,18,148,,,,,']"
            ]
          },
          "metadata": {
            "tags": []
          },
          "execution_count": 7
        }
      ]
    },
    {
      "cell_type": "code",
      "metadata": {
        "id": "j1qVgIbNh4tM"
      },
      "source": [
        "data = rawData.map(lambda line:line.split(',')).map(lambda x : (str(x[3]), int(x[18])))"
      ],
      "execution_count": 8,
      "outputs": []
    },
    {
      "cell_type": "code",
      "metadata": {
        "id": "2HMuei9DigBH",
        "colab": {
          "base_uri": "https://localhost:8080/"
        },
        "outputId": "f09bed41-054e-4ebf-ec0d-e8b3187b0af1"
      },
      "source": [
        "data.take(10)"
      ],
      "execution_count": 9,
      "outputs": [
        {
          "output_type": "execute_result",
          "data": {
            "text/plain": [
              "[('Abruzzo', 5),\n",
              " ('Basilicata', 0),\n",
              " ('Calabria', 1),\n",
              " ('Campania', 10),\n",
              " ('Emilia-Romagna', 148),\n",
              " ('Friuli Venezia Giulia', 58),\n",
              " ('Lazio', 124),\n",
              " ('Liguria', 1),\n",
              " ('Lombardia', 1463),\n",
              " ('Marche', 16)]"
            ]
          },
          "metadata": {
            "tags": []
          },
          "execution_count": 9
        }
      ]
    },
    {
      "cell_type": "code",
      "metadata": {
        "id": "4_Er4oUbBcq6"
      },
      "source": [
        "query = data.groupByKey().mapValues(sorted).map(lambda x: (mydict[x[0]],(round(max(x[1])/len(x[1]),1), x[0]))).groupByKey().mapValues(sorted).map(lambda x : (x[0], x[1][:-4:-1]))"
      ],
      "execution_count": 10,
      "outputs": []
    },
    {
      "cell_type": "code",
      "metadata": {
        "id": "RCQ1pgHOR8mj",
        "colab": {
          "base_uri": "https://localhost:8080/"
        },
        "outputId": "d2e05f89-f0a0-4ef0-920f-6a5011637b37"
      },
      "source": [
        "query.collect()"
      ],
      "execution_count": 11,
      "outputs": [
        {
          "output_type": "execute_result",
          "data": {
            "text/plain": [
              "[('nord',\n",
              "  [(15903.3, 'Lombardia'), (11075.2, 'Veneto'), (8542.1, 'Emilia-Romagna')]),\n",
              " ('centro', [(9004.6, 'Lazio'), (6199.1, 'Toscana'), (1879.7, 'Marche')]),\n",
              " ('sud', [(6801.8, 'Campania'), (4369.6, 'Sicilia'), (3591.9, 'Puglia')])]"
            ]
          },
          "metadata": {
            "tags": []
          },
          "execution_count": 11
        }
      ]
    },
    {
      "cell_type": "code",
      "metadata": {
        "id": "TIr54shPSZ30"
      },
      "source": [
        "query.coalesce(1).saveAsTextFile(\"output_covid3\")\n",
        "sc.stop()"
      ],
      "execution_count": 12,
      "outputs": []
    },
    {
      "cell_type": "code",
      "metadata": {
        "id": "DtBiGWjBScwV",
        "colab": {
          "base_uri": "https://localhost:8080/"
        },
        "outputId": "648c935d-d161-4f37-a0c6-8a7b64d1ee9e"
      },
      "source": [
        "!ls"
      ],
      "execution_count": 13,
      "outputs": [
        {
          "output_type": "stream",
          "text": [
            "dpc-covid19-ita-regioni.csv  output_covid3  sample_data\n"
          ],
          "name": "stdout"
        }
      ]
    },
    {
      "cell_type": "code",
      "metadata": {
        "id": "EbrIU6oPShtk",
        "colab": {
          "base_uri": "https://localhost:8080/"
        },
        "outputId": "94b50cfe-851b-46e1-8e45-e548ab565800"
      },
      "source": [
        "!cat output_covid3/part-00000"
      ],
      "execution_count": 14,
      "outputs": [
        {
          "output_type": "stream",
          "text": [
            "('nord', [(15903.3, 'Lombardia'), (11075.2, 'Veneto'), (8542.1, 'Emilia-Romagna')])\n",
            "('centro', [(9004.6, 'Lazio'), (6199.1, 'Toscana'), (1879.7, 'Marche')])\n",
            "('sud', [(6801.8, 'Campania'), (4369.6, 'Sicilia'), (3591.9, 'Puglia')])\n"
          ],
          "name": "stdout"
        }
      ]
    },
    {
      "cell_type": "code",
      "metadata": {
        "id": "GeMfw-rG4Xx1"
      },
      "source": [
        "!rm -r output_covid3"
      ],
      "execution_count": 15,
      "outputs": []
    },
    {
      "cell_type": "code",
      "metadata": {
        "id": "lRZIu7osAGca"
      },
      "source": [
        ""
      ],
      "execution_count": null,
      "outputs": []
    }
  ]
}