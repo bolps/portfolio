{
  "nbformat": 4,
  "nbformat_minor": 0,
  "metadata": {
    "colab": {
      "name": "Regioni_CovidQ1.ipynb",
      "provenance": [],
      "collapsed_sections": []
    },
    "kernelspec": {
      "name": "python3",
      "display_name": "Python 3"
    }
  },
  "cells": [
    {
      "cell_type": "markdown",
      "metadata": {
        "id": "Qqdt7kv8fIzS"
      },
      "source": [
        "**Query** <br>\n",
        "Individuare le regioni che hanno in almeno un mese dall’inizio della pandemia almeno due giorni\n",
        "(anche non consecutivi) con un numero di nuovi positivi maggiore o uguale a 50."
      ]
    },
    {
      "cell_type": "markdown",
      "metadata": {
        "id": "V7rAHE1AedwH"
      },
      "source": [
        "**Dataset** <br>\n",
        "Il dataset è organizzato secondo il seguente schema: <br>\n",
        "data | stato| codice_regione | denominazione_regione | lat | long | ricoverati_con_sintomi | terapia_intensiva | totale_ospedalizzati | isolamento_domiciliare | totale_positivi | variazione_totale_positivi | nuovi_positivi | dimessi_guariti | deceduti | totale_casi | tamponi | casi_testati | note_it | note_en"
      ]
    },
    {
      "cell_type": "code",
      "metadata": {
        "id": "XXZCM-07R7DU"
      },
      "source": [
        "%%capture\n",
        "!pip install pyspark"
      ],
      "execution_count": 1,
      "outputs": []
    },
    {
      "cell_type": "code",
      "metadata": {
        "id": "h1byJAN0R-Jw"
      },
      "source": [
        "from datetime import datetime\n",
        "from pyspark import SparkContext"
      ],
      "execution_count": 2,
      "outputs": []
    },
    {
      "cell_type": "code",
      "metadata": {
        "id": "fz0r7syI_5WL",
        "colab": {
          "base_uri": "https://localhost:8080/"
        },
        "outputId": "1191df70-88eb-4f6f-9de5-297047f9b3ca"
      },
      "source": [
        "# DOWNLOAD FILE CSV\n",
        "!wget https://raw.githubusercontent.com/pcm-dpc/COVID-19/master/dati-regioni/dpc-covid19-ita-regioni.csv"
      ],
      "execution_count": 3,
      "outputs": [
        {
          "output_type": "stream",
          "text": [
            "--2021-01-18 10:13:39--  https://raw.githubusercontent.com/pcm-dpc/COVID-19/master/dati-regioni/dpc-covid19-ita-regioni.csv\n",
            "Resolving raw.githubusercontent.com (raw.githubusercontent.com)... 151.101.0.133, 151.101.64.133, 151.101.128.133, ...\n",
            "Connecting to raw.githubusercontent.com (raw.githubusercontent.com)|151.101.0.133|:443... connected.\n",
            "HTTP request sent, awaiting response... 200 OK\n",
            "Length: 974734 (952K) [text/plain]\n",
            "Saving to: ‘dpc-covid19-ita-regioni.csv’\n",
            "\n",
            "dpc-covid19-ita-reg 100%[===================>] 951.89K  --.-KB/s    in 0.06s   \n",
            "\n",
            "2021-01-18 10:13:40 (15.2 MB/s) - ‘dpc-covid19-ita-regioni.csv’ saved [974734/974734]\n",
            "\n"
          ],
          "name": "stdout"
        }
      ]
    },
    {
      "cell_type": "code",
      "metadata": {
        "id": "OMXCF5G0SEGf"
      },
      "source": [
        "sc = SparkContext(\"local[2]\", \"covid1\")"
      ],
      "execution_count": 4,
      "outputs": []
    },
    {
      "cell_type": "code",
      "metadata": {
        "id": "XDAnBEnDhzD9"
      },
      "source": [
        "# IMPORTO DATASET RIMUOVENDO L'HEADER\n",
        "rawData = sc.textFile(\"dpc-covid19-ita-regioni.csv\")\n",
        "header = rawData.first()\n",
        "rawData = rawData.filter(lambda line: line != header)"
      ],
      "execution_count": 5,
      "outputs": []
    },
    {
      "cell_type": "code",
      "metadata": {
        "id": "RvWsiMwEjAff",
        "colab": {
          "base_uri": "https://localhost:8080/"
        },
        "outputId": "535065e0-ce80-4cff-b802-820b739bcf17"
      },
      "source": [
        "rawData.take(5)"
      ],
      "execution_count": 6,
      "outputs": [
        {
          "output_type": "execute_result",
          "data": {
            "text/plain": [
              "['2020-02-24T18:00:00,ITA,13,Abruzzo,42.35122196,13.39843823,0,0,0,0,0,0,0,0,0,,,0,5,,,,,',\n",
              " '2020-02-24T18:00:00,ITA,17,Basilicata,40.63947052,15.80514834,0,0,0,0,0,0,0,0,0,,,0,0,,,,,',\n",
              " '2020-02-24T18:00:00,ITA,18,Calabria,38.90597598,16.59440194,0,0,0,0,0,0,0,0,0,,,0,1,,,,,',\n",
              " '2020-02-24T18:00:00,ITA,15,Campania,40.83956555,14.25084984,0,0,0,0,0,0,0,0,0,,,0,10,,,,,',\n",
              " '2020-02-24T18:00:00,ITA,08,Emilia-Romagna,44.49436681,11.341720800000001,10,2,12,6,18,0,18,0,0,,,18,148,,,,,']"
            ]
          },
          "metadata": {
            "tags": []
          },
          "execution_count": 6
        }
      ]
    },
    {
      "cell_type": "code",
      "metadata": {
        "id": "j1qVgIbNh4tM"
      },
      "source": [
        "data = rawData.map(lambda line:line.split(',')).filter(lambda x : int(x[12])>=50).map(lambda x : ((str(x[3]),datetime.strptime(x[0],'%Y-%m-%dT%H:%M:%S').month), 1))"
      ],
      "execution_count": 7,
      "outputs": []
    },
    {
      "cell_type": "code",
      "metadata": {
        "id": "2HMuei9DigBH",
        "colab": {
          "base_uri": "https://localhost:8080/"
        },
        "outputId": "28330251-c33d-48a3-db3c-b44b7d409f7b"
      },
      "source": [
        "data.take(10)"
      ],
      "execution_count": 8,
      "outputs": [
        {
          "output_type": "execute_result",
          "data": {
            "text/plain": [
              "[(('Lombardia', 2), 1),\n",
              " (('Lombardia', 2), 1),\n",
              " (('Emilia-Romagna', 2), 1),\n",
              " (('Lombardia', 2), 1),\n",
              " (('Lombardia', 2), 1),\n",
              " (('Emilia-Romagna', 2), 1),\n",
              " (('Lombardia', 2), 1),\n",
              " (('Emilia-Romagna', 3), 1),\n",
              " (('Lombardia', 3), 1),\n",
              " (('Veneto', 3), 1)]"
            ]
          },
          "metadata": {
            "tags": []
          },
          "execution_count": 8
        }
      ]
    },
    {
      "cell_type": "code",
      "metadata": {
        "id": "4_Er4oUbBcq6"
      },
      "source": [
        "query = data.reduceByKey(lambda a,b : a + b).filter(lambda x : x[1] >= 2).map(lambda x: (x[0][0], 1)).reduceByKey(lambda a,b : a + b).sortByKey()"
      ],
      "execution_count": 9,
      "outputs": []
    },
    {
      "cell_type": "code",
      "metadata": {
        "id": "TsHFIouFj6HI",
        "colab": {
          "base_uri": "https://localhost:8080/"
        },
        "outputId": "d70e7b3e-7395-4b62-cf38-c60261145331"
      },
      "source": [
        "query.take(100)"
      ],
      "execution_count": 10,
      "outputs": [
        {
          "output_type": "execute_result",
          "data": {
            "text/plain": [
              "[('Abruzzo', 7),\n",
              " ('Basilicata', 4),\n",
              " ('Calabria', 5),\n",
              " ('Campania', 8),\n",
              " ('Emilia-Romagna', 11),\n",
              " ('Friuli Venezia Giulia', 7),\n",
              " ('Lazio', 9),\n",
              " ('Liguria', 9),\n",
              " ('Lombardia', 12),\n",
              " ('Marche', 6),\n",
              " ('Molise', 4),\n",
              " ('P.A. Bolzano', 7),\n",
              " ('P.A. Trento', 7),\n",
              " ('Piemonte', 9),\n",
              " ('Puglia', 8),\n",
              " ('Sardegna', 7),\n",
              " ('Sicilia', 8),\n",
              " ('Toscana', 9),\n",
              " ('Umbria', 5),\n",
              " (\"Valle d'Aosta\", 4),\n",
              " ('Veneto', 10)]"
            ]
          },
          "metadata": {
            "tags": []
          },
          "execution_count": 10
        }
      ]
    },
    {
      "cell_type": "code",
      "metadata": {
        "id": "TIr54shPSZ30"
      },
      "source": [
        "query.coalesce(1).saveAsTextFile(\"output_covid1\")\n",
        "sc.stop()"
      ],
      "execution_count": 11,
      "outputs": []
    },
    {
      "cell_type": "code",
      "metadata": {
        "id": "DtBiGWjBScwV",
        "colab": {
          "base_uri": "https://localhost:8080/"
        },
        "outputId": "4b2167cf-26b7-4bcb-eafa-b0c59bfeab99"
      },
      "source": [
        "!ls"
      ],
      "execution_count": 13,
      "outputs": [
        {
          "output_type": "stream",
          "text": [
            "dpc-covid19-ita-regioni.csv  output_covid1  sample_data\n"
          ],
          "name": "stdout"
        }
      ]
    },
    {
      "cell_type": "code",
      "metadata": {
        "id": "EbrIU6oPShtk",
        "colab": {
          "base_uri": "https://localhost:8080/"
        },
        "outputId": "c18eae66-9cc3-4f24-f170-1bd49f2c1b89"
      },
      "source": [
        "!cat output_covid1/part-00000"
      ],
      "execution_count": 14,
      "outputs": [
        {
          "output_type": "stream",
          "text": [
            "('Abruzzo', 7)\n",
            "('Basilicata', 4)\n",
            "('Calabria', 5)\n",
            "('Campania', 8)\n",
            "('Emilia-Romagna', 11)\n",
            "('Friuli Venezia Giulia', 7)\n",
            "('Lazio', 9)\n",
            "('Liguria', 9)\n",
            "('Lombardia', 12)\n",
            "('Marche', 6)\n",
            "('Molise', 4)\n",
            "('P.A. Bolzano', 7)\n",
            "('P.A. Trento', 7)\n",
            "('Piemonte', 9)\n",
            "('Puglia', 8)\n",
            "('Sardegna', 7)\n",
            "('Sicilia', 8)\n",
            "('Toscana', 9)\n",
            "('Umbria', 5)\n",
            "(\"Valle d'Aosta\", 4)\n",
            "('Veneto', 10)\n"
          ],
          "name": "stdout"
        }
      ]
    },
    {
      "cell_type": "code",
      "metadata": {
        "id": "5FmH5rUkblUX"
      },
      "source": [
        "!rm -r output_covid1"
      ],
      "execution_count": 15,
      "outputs": []
    }
  ]
}