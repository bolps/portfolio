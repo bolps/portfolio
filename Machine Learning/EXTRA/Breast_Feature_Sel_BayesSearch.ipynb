{
  "nbformat": 4,
  "nbformat_minor": 0,
  "metadata": {
    "colab": {
      "name": "Breast Feature Sel - BayesSearch.ipynb",
      "provenance": [],
      "collapsed_sections": []
    },
    "kernelspec": {
      "name": "python3",
      "display_name": "Python 3"
    }
  },
  "cells": [
    {
      "cell_type": "code",
      "metadata": {
        "id": "kGrYXkWprjrN",
        "colab_type": "code",
        "colab": {
          "base_uri": "https://localhost:8080/",
          "height": 146
        },
        "outputId": "2693e4bd-75c8-44a2-b6cb-5af96085e97e"
      },
      "source": [
        "!pip install scikit-optimize"
      ],
      "execution_count": 1,
      "outputs": [
        {
          "output_type": "stream",
          "text": [
            "Requirement already satisfied: scikit-optimize in /usr/local/lib/python3.6/dist-packages (0.8.1)\n",
            "Requirement already satisfied: scipy>=0.19.1 in /usr/local/lib/python3.6/dist-packages (from scikit-optimize) (1.4.1)\n",
            "Requirement already satisfied: numpy>=1.13.3 in /usr/local/lib/python3.6/dist-packages (from scikit-optimize) (1.18.5)\n",
            "Requirement already satisfied: scikit-learn>=0.20.0 in /usr/local/lib/python3.6/dist-packages (from scikit-optimize) (0.22.2.post1)\n",
            "Requirement already satisfied: pyaml>=16.9 in /usr/local/lib/python3.6/dist-packages (from scikit-optimize) (20.4.0)\n",
            "Requirement already satisfied: joblib>=0.11 in /usr/local/lib/python3.6/dist-packages (from scikit-optimize) (0.16.0)\n",
            "Requirement already satisfied: PyYAML in /usr/local/lib/python3.6/dist-packages (from pyaml>=16.9->scikit-optimize) (3.13)\n"
          ],
          "name": "stdout"
        }
      ]
    },
    {
      "cell_type": "code",
      "metadata": {
        "id": "rGHWq2IhraZD",
        "colab_type": "code",
        "colab": {
          "base_uri": "https://localhost:8080/",
          "height": 219
        },
        "outputId": "0895ff17-0b67-42c7-8659-426ae768cd5b"
      },
      "source": [
        "!wget https://raw.githubusercontent.com/bolps/dataset/master/train_breast.csv"
      ],
      "execution_count": 2,
      "outputs": [
        {
          "output_type": "stream",
          "text": [
            "--2020-09-15 16:52:49--  https://raw.githubusercontent.com/bolps/dataset/master/train_breast.csv\n",
            "Resolving raw.githubusercontent.com (raw.githubusercontent.com)... 151.101.0.133, 151.101.64.133, 151.101.128.133, ...\n",
            "Connecting to raw.githubusercontent.com (raw.githubusercontent.com)|151.101.0.133|:443... connected.\n",
            "HTTP request sent, awaiting response... 200 OK\n",
            "Length: 121917 (119K) [text/plain]\n",
            "Saving to: ‘train_breast.csv.1’\n",
            "\n",
            "\rtrain_breast.csv.1    0%[                    ]       0  --.-KB/s               \rtrain_breast.csv.1  100%[===================>] 119.06K  --.-KB/s    in 0.04s   \n",
            "\n",
            "2020-09-15 16:52:49 (3.07 MB/s) - ‘train_breast.csv.1’ saved [121917/121917]\n",
            "\n"
          ],
          "name": "stdout"
        }
      ]
    },
    {
      "cell_type": "code",
      "metadata": {
        "id": "1YCuszM-ckyR",
        "colab_type": "code",
        "colab": {}
      },
      "source": [
        "import numpy as np\n",
        "import pandas as pd\n",
        "import sklearn\n",
        "import warnings\n",
        "import seaborn as sns\n",
        "from matplotlib import pyplot as plt\n",
        "\n",
        "from sklearn.metrics import confusion_matrix\n",
        "import sklearn.metrics as metrics\n",
        "import sklearn.model_selection as model_selection\n",
        "\n",
        "from sklearn.pipeline import Pipeline\n",
        "from sklearn.model_selection import GridSearchCV\n",
        "\n",
        "from sklearn.impute import SimpleImputer\n",
        "from sklearn.impute import KNNImputer\n",
        "\n",
        "from sklearn.preprocessing import LabelEncoder\n",
        "\n",
        "from sklearn.preprocessing import StandardScaler, RobustScaler, MinMaxScaler\n",
        "\n",
        "from sklearn.feature_selection import SelectFromModel\n",
        "\n",
        "from sklearn.linear_model import LogisticRegression\n",
        "from sklearn.neighbors import KNeighborsClassifier\n",
        "from sklearn.svm import SVC\n",
        "from sklearn.naive_bayes import GaussianNB\n",
        "from sklearn.ensemble import RandomForestClassifier\n",
        "from xgboost import XGBClassifier\n",
        "from sklearn.neural_network import MLPClassifier\n",
        "\n",
        "from skopt import BayesSearchCV\n",
        "from skopt.space import Real, Categorical, Integer\n",
        "\n",
        "warnings.filterwarnings('ignore')"
      ],
      "execution_count": 4,
      "outputs": []
    },
    {
      "cell_type": "code",
      "metadata": {
        "id": "BKx2SJ34csSb",
        "colab_type": "code",
        "colab": {}
      },
      "source": [
        "dataset = pd.read_csv(\"./train_breast.csv\")\n",
        "dataset = dataset.drop('id',1)"
      ],
      "execution_count": 6,
      "outputs": []
    },
    {
      "cell_type": "code",
      "metadata": {
        "id": "2rMpZ0bDcwY4",
        "colab_type": "code",
        "colab": {
          "base_uri": "https://localhost:8080/",
          "height": 226
        },
        "outputId": "018dfeea-00ca-4a5f-866a-056847f24280"
      },
      "source": [
        "dataset.head(5)"
      ],
      "execution_count": 7,
      "outputs": [
        {
          "output_type": "execute_result",
          "data": {
            "text/html": [
              "<div>\n",
              "<style scoped>\n",
              "    .dataframe tbody tr th:only-of-type {\n",
              "        vertical-align: middle;\n",
              "    }\n",
              "\n",
              "    .dataframe tbody tr th {\n",
              "        vertical-align: top;\n",
              "    }\n",
              "\n",
              "    .dataframe thead th {\n",
              "        text-align: right;\n",
              "    }\n",
              "</style>\n",
              "<table border=\"1\" class=\"dataframe\">\n",
              "  <thead>\n",
              "    <tr style=\"text-align: right;\">\n",
              "      <th></th>\n",
              "      <th>diagnosis</th>\n",
              "      <th>radius_mean</th>\n",
              "      <th>texture_mean</th>\n",
              "      <th>perimeter_mean</th>\n",
              "      <th>area_mean</th>\n",
              "      <th>smoothness_mean</th>\n",
              "      <th>compactness_mean</th>\n",
              "      <th>concavity_mean</th>\n",
              "      <th>concave.points_mean</th>\n",
              "      <th>symmetry_mean</th>\n",
              "      <th>fractal_dimension_mean</th>\n",
              "      <th>radius_se</th>\n",
              "      <th>texture_se</th>\n",
              "      <th>perimeter_se</th>\n",
              "      <th>area_se</th>\n",
              "      <th>smoothness_se</th>\n",
              "      <th>compactness_se</th>\n",
              "      <th>concavity_se</th>\n",
              "      <th>concave.points_se</th>\n",
              "      <th>symmetry_se</th>\n",
              "      <th>fractal_dimension_se</th>\n",
              "      <th>radius_worst</th>\n",
              "      <th>texture_worst</th>\n",
              "      <th>perimeter_worst</th>\n",
              "      <th>area_worst</th>\n",
              "      <th>smoothness_worst</th>\n",
              "      <th>compactness_worst</th>\n",
              "      <th>concavity_worst</th>\n",
              "      <th>concave.points_worst</th>\n",
              "      <th>symmetry_worst</th>\n",
              "      <th>fractal_dimension_worst</th>\n",
              "    </tr>\n",
              "  </thead>\n",
              "  <tbody>\n",
              "    <tr>\n",
              "      <th>0</th>\n",
              "      <td>B</td>\n",
              "      <td>12.91</td>\n",
              "      <td>16.33</td>\n",
              "      <td>82.53</td>\n",
              "      <td>516.4</td>\n",
              "      <td>0.07941</td>\n",
              "      <td>0.05366</td>\n",
              "      <td>0.03873</td>\n",
              "      <td>0.02377</td>\n",
              "      <td>0.1829</td>\n",
              "      <td>0.05667</td>\n",
              "      <td>0.1942</td>\n",
              "      <td>0.9086</td>\n",
              "      <td>1.4930</td>\n",
              "      <td>15.750</td>\n",
              "      <td>0.005298</td>\n",
              "      <td>0.015870</td>\n",
              "      <td>0.023210</td>\n",
              "      <td>0.008420</td>\n",
              "      <td>0.01853</td>\n",
              "      <td>0.002152</td>\n",
              "      <td>13.88</td>\n",
              "      <td>22.00</td>\n",
              "      <td>90.81</td>\n",
              "      <td>600.6</td>\n",
              "      <td>0.1097</td>\n",
              "      <td>0.1506</td>\n",
              "      <td>0.1764</td>\n",
              "      <td>0.08235</td>\n",
              "      <td>0.3024</td>\n",
              "      <td>0.06949</td>\n",
              "    </tr>\n",
              "    <tr>\n",
              "      <th>1</th>\n",
              "      <td>B</td>\n",
              "      <td>14.05</td>\n",
              "      <td>27.15</td>\n",
              "      <td>91.38</td>\n",
              "      <td>600.4</td>\n",
              "      <td>0.09929</td>\n",
              "      <td>0.11260</td>\n",
              "      <td>0.04462</td>\n",
              "      <td>0.04304</td>\n",
              "      <td>0.1537</td>\n",
              "      <td>0.06171</td>\n",
              "      <td>0.3645</td>\n",
              "      <td>1.4920</td>\n",
              "      <td>2.8880</td>\n",
              "      <td>29.840</td>\n",
              "      <td>0.007256</td>\n",
              "      <td>0.026780</td>\n",
              "      <td>0.020710</td>\n",
              "      <td>0.016260</td>\n",
              "      <td>0.02080</td>\n",
              "      <td>0.005304</td>\n",
              "      <td>15.30</td>\n",
              "      <td>33.17</td>\n",
              "      <td>100.20</td>\n",
              "      <td>706.7</td>\n",
              "      <td>0.1241</td>\n",
              "      <td>0.2264</td>\n",
              "      <td>0.1326</td>\n",
              "      <td>0.10480</td>\n",
              "      <td>0.2250</td>\n",
              "      <td>0.08321</td>\n",
              "    </tr>\n",
              "    <tr>\n",
              "      <th>2</th>\n",
              "      <td>B</td>\n",
              "      <td>13.87</td>\n",
              "      <td>20.70</td>\n",
              "      <td>89.77</td>\n",
              "      <td>584.8</td>\n",
              "      <td>0.09578</td>\n",
              "      <td>0.10180</td>\n",
              "      <td>0.03688</td>\n",
              "      <td>0.02369</td>\n",
              "      <td>0.1620</td>\n",
              "      <td>0.06688</td>\n",
              "      <td>0.2720</td>\n",
              "      <td>1.0470</td>\n",
              "      <td>2.0760</td>\n",
              "      <td>23.120</td>\n",
              "      <td>0.006298</td>\n",
              "      <td>0.021720</td>\n",
              "      <td>0.026150</td>\n",
              "      <td>0.009061</td>\n",
              "      <td>0.01490</td>\n",
              "      <td>0.003599</td>\n",
              "      <td>15.05</td>\n",
              "      <td>24.75</td>\n",
              "      <td>99.17</td>\n",
              "      <td>688.6</td>\n",
              "      <td>0.1264</td>\n",
              "      <td>0.2037</td>\n",
              "      <td>0.1377</td>\n",
              "      <td>0.06845</td>\n",
              "      <td>0.2249</td>\n",
              "      <td>0.08492</td>\n",
              "    </tr>\n",
              "    <tr>\n",
              "      <th>3</th>\n",
              "      <td>B</td>\n",
              "      <td>14.87</td>\n",
              "      <td>20.21</td>\n",
              "      <td>96.12</td>\n",
              "      <td>680.9</td>\n",
              "      <td>0.09587</td>\n",
              "      <td>0.08345</td>\n",
              "      <td>0.06824</td>\n",
              "      <td>0.04951</td>\n",
              "      <td>0.1487</td>\n",
              "      <td>0.05748</td>\n",
              "      <td>0.2323</td>\n",
              "      <td>1.6360</td>\n",
              "      <td>1.5960</td>\n",
              "      <td>21.840</td>\n",
              "      <td>0.005415</td>\n",
              "      <td>0.013710</td>\n",
              "      <td>0.021530</td>\n",
              "      <td>0.011830</td>\n",
              "      <td>0.01959</td>\n",
              "      <td>0.001812</td>\n",
              "      <td>16.01</td>\n",
              "      <td>28.48</td>\n",
              "      <td>103.90</td>\n",
              "      <td>783.6</td>\n",
              "      <td>0.1216</td>\n",
              "      <td>0.1388</td>\n",
              "      <td>0.1700</td>\n",
              "      <td>0.10170</td>\n",
              "      <td>0.2369</td>\n",
              "      <td>0.06599</td>\n",
              "    </tr>\n",
              "    <tr>\n",
              "      <th>4</th>\n",
              "      <td>B</td>\n",
              "      <td>12.34</td>\n",
              "      <td>12.27</td>\n",
              "      <td>78.94</td>\n",
              "      <td>468.5</td>\n",
              "      <td>0.09003</td>\n",
              "      <td>0.06307</td>\n",
              "      <td>0.02958</td>\n",
              "      <td>0.02647</td>\n",
              "      <td>0.1689</td>\n",
              "      <td>0.05808</td>\n",
              "      <td>0.1166</td>\n",
              "      <td>0.4957</td>\n",
              "      <td>0.7714</td>\n",
              "      <td>8.955</td>\n",
              "      <td>0.003681</td>\n",
              "      <td>0.009169</td>\n",
              "      <td>0.008732</td>\n",
              "      <td>0.005740</td>\n",
              "      <td>0.01129</td>\n",
              "      <td>0.001366</td>\n",
              "      <td>13.61</td>\n",
              "      <td>19.27</td>\n",
              "      <td>87.22</td>\n",
              "      <td>564.9</td>\n",
              "      <td>0.1292</td>\n",
              "      <td>0.2074</td>\n",
              "      <td>0.1791</td>\n",
              "      <td>0.10700</td>\n",
              "      <td>0.3110</td>\n",
              "      <td>0.07592</td>\n",
              "    </tr>\n",
              "  </tbody>\n",
              "</table>\n",
              "</div>"
            ],
            "text/plain": [
              "  diagnosis  radius_mean  ...  symmetry_worst  fractal_dimension_worst\n",
              "0         B        12.91  ...          0.3024                  0.06949\n",
              "1         B        14.05  ...          0.2250                  0.08321\n",
              "2         B        13.87  ...          0.2249                  0.08492\n",
              "3         B        14.87  ...          0.2369                  0.06599\n",
              "4         B        12.34  ...          0.3110                  0.07592\n",
              "\n",
              "[5 rows x 31 columns]"
            ]
          },
          "metadata": {
            "tags": []
          },
          "execution_count": 7
        }
      ]
    },
    {
      "cell_type": "code",
      "metadata": {
        "id": "UXvzEvCWculu",
        "colab_type": "code",
        "colab": {
          "base_uri": "https://localhost:8080/",
          "height": 35
        },
        "outputId": "163c79f1-155b-4662-ceb4-abf6366a546b"
      },
      "source": [
        "dataset.shape"
      ],
      "execution_count": 8,
      "outputs": [
        {
          "output_type": "execute_result",
          "data": {
            "text/plain": [
              "(455, 31)"
            ]
          },
          "metadata": {
            "tags": []
          },
          "execution_count": 8
        }
      ]
    },
    {
      "cell_type": "code",
      "metadata": {
        "id": "8V-vst8OcyNP",
        "colab_type": "code",
        "colab": {
          "base_uri": "https://localhost:8080/",
          "height": 54
        },
        "outputId": "4b1ee5ad-9e18-4f04-e984-3dc640b16ced"
      },
      "source": [
        "# contiamo il numero di esempi per ogni classe\n",
        "counts = dataset['diagnosis'].value_counts()\n",
        "n_false = counts[0]\n",
        "n_true = counts[1]\n",
        "print('Percentuale di tumori benigni', round(n_false / (n_false + n_true)*100, 2))\n",
        "print('Percentuale di tumori maligni', round(n_true / (n_false + n_true)*100, 2))"
      ],
      "execution_count": 9,
      "outputs": [
        {
          "output_type": "stream",
          "text": [
            "Percentuale di tumori benigni 62.64\n",
            "Percentuale di tumori maligni 37.36\n"
          ],
          "name": "stdout"
        }
      ]
    },
    {
      "cell_type": "code",
      "metadata": {
        "id": "IuQnoj3jcz8d",
        "colab_type": "code",
        "colab": {
          "base_uri": "https://localhost:8080/",
          "height": 605
        },
        "outputId": "0bfc794c-2af3-4d7c-816f-6a06f6c04f59"
      },
      "source": [
        "# Visualizzo se ci sono missing\n",
        "dataset.isna().sum()"
      ],
      "execution_count": 10,
      "outputs": [
        {
          "output_type": "execute_result",
          "data": {
            "text/plain": [
              "diagnosis                  0\n",
              "radius_mean                1\n",
              "texture_mean               1\n",
              "perimeter_mean             0\n",
              "area_mean                  0\n",
              "smoothness_mean            0\n",
              "compactness_mean           2\n",
              "concavity_mean             0\n",
              "concave.points_mean        1\n",
              "symmetry_mean              1\n",
              "fractal_dimension_mean     2\n",
              "radius_se                  0\n",
              "texture_se                 1\n",
              "perimeter_se               0\n",
              "area_se                    1\n",
              "smoothness_se              0\n",
              "compactness_se             0\n",
              "concavity_se               0\n",
              "concave.points_se          0\n",
              "symmetry_se                1\n",
              "fractal_dimension_se       0\n",
              "radius_worst               2\n",
              "texture_worst              0\n",
              "perimeter_worst            1\n",
              "area_worst                 2\n",
              "smoothness_worst           0\n",
              "compactness_worst          1\n",
              "concavity_worst            0\n",
              "concave.points_worst       0\n",
              "symmetry_worst             1\n",
              "fractal_dimension_worst    2\n",
              "dtype: int64"
            ]
          },
          "metadata": {
            "tags": []
          },
          "execution_count": 10
        }
      ]
    },
    {
      "cell_type": "code",
      "metadata": {
        "id": "EBSWlwVXdBVb",
        "colab_type": "code",
        "colab": {
          "base_uri": "https://localhost:8080/",
          "height": 54
        },
        "outputId": "3c6bb0b4-c031-42c6-bae4-53dfd732100e"
      },
      "source": [
        "# separiamo le feature d'ingresso x dal target y\n",
        "x = dataset\n",
        "y = dataset.pop('diagnosis')\n",
        "\n",
        "# dividiamo i dati in training e test\n",
        "train_x, test_x, train_y, test_y = model_selection.train_test_split(x, y, test_size=0.2, random_state=0, stratify=y)\n",
        "print('Train:', train_x.shape, train_y.shape)\n",
        "print('Test:', test_x.shape, test_y.shape)"
      ],
      "execution_count": 11,
      "outputs": [
        {
          "output_type": "stream",
          "text": [
            "Train: (364, 30) (364,)\n",
            "Test: (91, 30) (91,)\n"
          ],
          "name": "stdout"
        }
      ]
    },
    {
      "cell_type": "code",
      "metadata": {
        "id": "iOyxe0-5dFfk",
        "colab_type": "code",
        "colab": {}
      },
      "source": [
        "#Encoding  // B = 0, M = 1\n",
        "train_y = LabelEncoder().fit_transform(train_y)\n",
        "test_y = LabelEncoder().fit_transform(test_y)"
      ],
      "execution_count": 12,
      "outputs": []
    },
    {
      "cell_type": "code",
      "metadata": {
        "id": "Ah7CxTqwd-Ix",
        "colab_type": "code",
        "colab": {
          "base_uri": "https://localhost:8080/",
          "height": 1000
        },
        "outputId": "5795ca07-3c62-4920-d687-0f3e9b0ea8de"
      },
      "source": [
        "print('Valori mancanti su train:\\n',train_x.isna().sum(axis=0))\n",
        "print('Valori mancanti su test:\\n',test_x.isna().sum(axis=0))"
      ],
      "execution_count": 13,
      "outputs": [
        {
          "output_type": "stream",
          "text": [
            "Valori mancanti su train:\n",
            " radius_mean                1\n",
            "texture_mean               1\n",
            "perimeter_mean             0\n",
            "area_mean                  0\n",
            "smoothness_mean            0\n",
            "compactness_mean           1\n",
            "concavity_mean             0\n",
            "concave.points_mean        1\n",
            "symmetry_mean              1\n",
            "fractal_dimension_mean     1\n",
            "radius_se                  0\n",
            "texture_se                 1\n",
            "perimeter_se               0\n",
            "area_se                    1\n",
            "smoothness_se              0\n",
            "compactness_se             0\n",
            "concavity_se               0\n",
            "concave.points_se          0\n",
            "symmetry_se                1\n",
            "fractal_dimension_se       0\n",
            "radius_worst               1\n",
            "texture_worst              0\n",
            "perimeter_worst            1\n",
            "area_worst                 2\n",
            "smoothness_worst           0\n",
            "compactness_worst          1\n",
            "concavity_worst            0\n",
            "concave.points_worst       0\n",
            "symmetry_worst             1\n",
            "fractal_dimension_worst    2\n",
            "dtype: int64\n",
            "Valori mancanti su test:\n",
            " radius_mean                0\n",
            "texture_mean               0\n",
            "perimeter_mean             0\n",
            "area_mean                  0\n",
            "smoothness_mean            0\n",
            "compactness_mean           1\n",
            "concavity_mean             0\n",
            "concave.points_mean        0\n",
            "symmetry_mean              0\n",
            "fractal_dimension_mean     1\n",
            "radius_se                  0\n",
            "texture_se                 0\n",
            "perimeter_se               0\n",
            "area_se                    0\n",
            "smoothness_se              0\n",
            "compactness_se             0\n",
            "concavity_se               0\n",
            "concave.points_se          0\n",
            "symmetry_se                0\n",
            "fractal_dimension_se       0\n",
            "radius_worst               1\n",
            "texture_worst              0\n",
            "perimeter_worst            0\n",
            "area_worst                 0\n",
            "smoothness_worst           0\n",
            "compactness_worst          0\n",
            "concavity_worst            0\n",
            "concave.points_worst       0\n",
            "symmetry_worst             0\n",
            "fractal_dimension_worst    0\n",
            "dtype: int64\n"
          ],
          "name": "stdout"
        }
      ]
    },
    {
      "cell_type": "code",
      "metadata": {
        "id": "cqjhBvPteDTK",
        "colab_type": "code",
        "colab": {}
      },
      "source": [
        "#Imputazione con media"
      ],
      "execution_count": 14,
      "outputs": []
    },
    {
      "cell_type": "code",
      "metadata": {
        "id": "9Xw4fjpZfEhr",
        "colab_type": "code",
        "colab": {}
      },
      "source": [
        "    imp = SimpleImputer(missing_values=np.nan, strategy='mean')\n",
        "    imp.fit(train_x)\n",
        "    tmp = pd.DataFrame(imp.transform(train_x))\n",
        "    tmp.columns=train_x.columns\n",
        "    tmp.index=train_x.index\n",
        "    train_x=tmp\n",
        "\n",
        "    tmp = pd.DataFrame(imp.transform(test_x))\n",
        "    tmp.columns = test_x.columns\n",
        "    tmp.index=test_x.index\n",
        "    test_x=tmp"
      ],
      "execution_count": 15,
      "outputs": []
    },
    {
      "cell_type": "code",
      "metadata": {
        "id": "kjQaJoa_hApm",
        "colab_type": "code",
        "colab": {
          "base_uri": "https://localhost:8080/",
          "height": 1000
        },
        "outputId": "62d04b86-3423-4383-cfc0-461c9348a2b3"
      },
      "source": [
        "print('Valori mancanti su train:\\n',train_x.isna().sum(axis=0))\n",
        "print('Valori mancanti su test:\\n',test_x.isna().sum(axis=0))"
      ],
      "execution_count": 16,
      "outputs": [
        {
          "output_type": "stream",
          "text": [
            "Valori mancanti su train:\n",
            " radius_mean                0\n",
            "texture_mean               0\n",
            "perimeter_mean             0\n",
            "area_mean                  0\n",
            "smoothness_mean            0\n",
            "compactness_mean           0\n",
            "concavity_mean             0\n",
            "concave.points_mean        0\n",
            "symmetry_mean              0\n",
            "fractal_dimension_mean     0\n",
            "radius_se                  0\n",
            "texture_se                 0\n",
            "perimeter_se               0\n",
            "area_se                    0\n",
            "smoothness_se              0\n",
            "compactness_se             0\n",
            "concavity_se               0\n",
            "concave.points_se          0\n",
            "symmetry_se                0\n",
            "fractal_dimension_se       0\n",
            "radius_worst               0\n",
            "texture_worst              0\n",
            "perimeter_worst            0\n",
            "area_worst                 0\n",
            "smoothness_worst           0\n",
            "compactness_worst          0\n",
            "concavity_worst            0\n",
            "concave.points_worst       0\n",
            "symmetry_worst             0\n",
            "fractal_dimension_worst    0\n",
            "dtype: int64\n",
            "Valori mancanti su test:\n",
            " radius_mean                0\n",
            "texture_mean               0\n",
            "perimeter_mean             0\n",
            "area_mean                  0\n",
            "smoothness_mean            0\n",
            "compactness_mean           0\n",
            "concavity_mean             0\n",
            "concave.points_mean        0\n",
            "symmetry_mean              0\n",
            "fractal_dimension_mean     0\n",
            "radius_se                  0\n",
            "texture_se                 0\n",
            "perimeter_se               0\n",
            "area_se                    0\n",
            "smoothness_se              0\n",
            "compactness_se             0\n",
            "concavity_se               0\n",
            "concave.points_se          0\n",
            "symmetry_se                0\n",
            "fractal_dimension_se       0\n",
            "radius_worst               0\n",
            "texture_worst              0\n",
            "perimeter_worst            0\n",
            "area_worst                 0\n",
            "smoothness_worst           0\n",
            "compactness_worst          0\n",
            "concavity_worst            0\n",
            "concave.points_worst       0\n",
            "symmetry_worst             0\n",
            "fractal_dimension_worst    0\n",
            "dtype: int64\n"
          ],
          "name": "stdout"
        }
      ]
    },
    {
      "cell_type": "code",
      "metadata": {
        "id": "e61EqnWDe849",
        "colab_type": "code",
        "colab": {}
      },
      "source": [
        "#Scaling"
      ],
      "execution_count": 17,
      "outputs": []
    },
    {
      "cell_type": "code",
      "metadata": {
        "id": "zxdHe5D3hGeA",
        "colab_type": "code",
        "colab": {}
      },
      "source": [
        "scaler = StandardScaler()\n",
        "scaler.fit(train_x)\n",
        "scaled_train_x = scaler.transform(train_x)\n",
        "scaled_test_x = scaler.transform(test_x)"
      ],
      "execution_count": 18,
      "outputs": []
    },
    {
      "cell_type": "code",
      "metadata": {
        "id": "ZFDJlYR5ho_z",
        "colab_type": "code",
        "colab": {}
      },
      "source": [
        "# Feature selection"
      ],
      "execution_count": 19,
      "outputs": []
    },
    {
      "cell_type": "code",
      "metadata": {
        "id": "TTy4KCr_iKu-",
        "colab_type": "code",
        "colab": {
          "base_uri": "https://localhost:8080/",
          "height": 146
        },
        "outputId": "3c635804-4d4e-448b-984c-3cdee6554baa"
      },
      "source": [
        "model = XGBClassifier()\n",
        "model.fit(scaled_train_x, train_y)"
      ],
      "execution_count": 20,
      "outputs": [
        {
          "output_type": "execute_result",
          "data": {
            "text/plain": [
              "XGBClassifier(base_score=0.5, booster='gbtree', colsample_bylevel=1,\n",
              "              colsample_bynode=1, colsample_bytree=1, gamma=0,\n",
              "              learning_rate=0.1, max_delta_step=0, max_depth=3,\n",
              "              min_child_weight=1, missing=None, n_estimators=100, n_jobs=1,\n",
              "              nthread=None, objective='binary:logistic', random_state=0,\n",
              "              reg_alpha=0, reg_lambda=1, scale_pos_weight=1, seed=None,\n",
              "              silent=None, subsample=1, verbosity=1)"
            ]
          },
          "metadata": {
            "tags": []
          },
          "execution_count": 20
        }
      ]
    },
    {
      "cell_type": "code",
      "metadata": {
        "id": "xtLnr_hljM_f",
        "colab_type": "code",
        "colab": {
          "base_uri": "https://localhost:8080/",
          "height": 611
        },
        "outputId": "578ca0ef-502e-435b-d99c-ecd6e87e0f2d"
      },
      "source": [
        "# Visualizzazione feature\n",
        "plt.figure(figsize=(12,8))\n",
        "plt.bar(x=train_x.columns.tolist(), height=model.feature_importances_, color='tomato')\n",
        "plt.xticks(rotation='vertical')\n",
        "plt.ylabel('Importance')\n",
        "plt.title('Feature importance - XGBoost')\n",
        "plt.axhline(y=0.05)\n",
        "plt.show()"
      ],
      "execution_count": 21,
      "outputs": [
        {
          "output_type": "display_data",
          "data": {
            "image/png": "[encoded data removed]",
            "text/plain": [
              "<Figure size 864x576 with 1 Axes>"
            ]
          },
          "metadata": {
            "tags": [],
            "needs_background": "light"
          }
        }
      ]
    },
    {
      "cell_type": "code",
      "metadata": {
        "id": "mGfTRX0nqIG4",
        "colab_type": "code",
        "colab": {}
      },
      "source": [
        "dfscores = pd.DataFrame(model.feature_importances_)\n",
        "dfcolumns = pd.DataFrame(train_x.columns.tolist())\n",
        "featureScores = pd.concat([dfcolumns,dfscores],axis=1)\n",
        "featureScores.columns=['Feature','Importance']"
      ],
      "execution_count": 22,
      "outputs": []
    },
    {
      "cell_type": "code",
      "metadata": {
        "id": "-z_DCNClrcTF",
        "colab_type": "code",
        "colab": {
          "base_uri": "https://localhost:8080/",
          "height": 206
        },
        "outputId": "acc7e4d8-8d73-4659-ff51-f4509bff72c4"
      },
      "source": [
        "featureScores[featureScores['Importance']>0.05]"
      ],
      "execution_count": 23,
      "outputs": [
        {
          "output_type": "execute_result",
          "data": {
            "text/html": [
              "<div>\n",
              "<style scoped>\n",
              "    .dataframe tbody tr th:only-of-type {\n",
              "        vertical-align: middle;\n",
              "    }\n",
              "\n",
              "    .dataframe tbody tr th {\n",
              "        vertical-align: top;\n",
              "    }\n",
              "\n",
              "    .dataframe thead th {\n",
              "        text-align: right;\n",
              "    }\n",
              "</style>\n",
              "<table border=\"1\" class=\"dataframe\">\n",
              "  <thead>\n",
              "    <tr style=\"text-align: right;\">\n",
              "      <th></th>\n",
              "      <th>Feature</th>\n",
              "      <th>Importance</th>\n",
              "    </tr>\n",
              "  </thead>\n",
              "  <tbody>\n",
              "    <tr>\n",
              "      <th>3</th>\n",
              "      <td>area_mean</td>\n",
              "      <td>0.057509</td>\n",
              "    </tr>\n",
              "    <tr>\n",
              "      <th>7</th>\n",
              "      <td>concave.points_mean</td>\n",
              "      <td>0.251459</td>\n",
              "    </tr>\n",
              "    <tr>\n",
              "      <th>20</th>\n",
              "      <td>radius_worst</td>\n",
              "      <td>0.055842</td>\n",
              "    </tr>\n",
              "    <tr>\n",
              "      <th>22</th>\n",
              "      <td>perimeter_worst</td>\n",
              "      <td>0.056890</td>\n",
              "    </tr>\n",
              "    <tr>\n",
              "      <th>27</th>\n",
              "      <td>concave.points_worst</td>\n",
              "      <td>0.304556</td>\n",
              "    </tr>\n",
              "  </tbody>\n",
              "</table>\n",
              "</div>"
            ],
            "text/plain": [
              "                 Feature  Importance\n",
              "3              area_mean    0.057509\n",
              "7    concave.points_mean    0.251459\n",
              "20          radius_worst    0.055842\n",
              "22       perimeter_worst    0.056890\n",
              "27  concave.points_worst    0.304556"
            ]
          },
          "metadata": {
            "tags": []
          },
          "execution_count": 23
        }
      ]
    },
    {
      "cell_type": "code",
      "metadata": {
        "id": "qYv_ov6ckDZ1",
        "colab_type": "code",
        "colab": {
          "base_uri": "https://localhost:8080/",
          "height": 35
        },
        "outputId": "c230d034-090f-4ac7-a2ad-7c8bbb49e2d4"
      },
      "source": [
        "selector = SelectFromModel(estimator=XGBClassifier(),threshold=0.05).fit(scaled_train_x, train_y)\n",
        "selected_scaled_train_x = selector.transform(scaled_train_x)\n",
        "#print(selector.estimator_.coef_)\n",
        "print(selector.threshold_)"
      ],
      "execution_count": 24,
      "outputs": [
        {
          "output_type": "stream",
          "text": [
            "0.05\n"
          ],
          "name": "stdout"
        }
      ]
    },
    {
      "cell_type": "code",
      "metadata": {
        "id": "TZ-5WcDvmxFO",
        "colab_type": "code",
        "colab": {}
      },
      "source": [
        "forest_clf = RandomForestClassifier()\n",
        "\n",
        "search_space = {\n",
        "        \"bootstrap\": Categorical([True, False]),\n",
        "        \"max_depth\": Integer(1, 30),\n",
        "        \"min_samples_leaf\": Integer(1, 20),\n",
        "        \"min_samples_split\": Integer(2, 20),\n",
        "        \"n_estimators\": Integer(10, 200)\n",
        "    }"
      ],
      "execution_count": 25,
      "outputs": []
    },
    {
      "cell_type": "code",
      "metadata": {
        "id": "jwo8mT_anJWB",
        "colab_type": "code",
        "colab": {}
      },
      "source": [
        "forest_bayes_search = BayesSearchCV(forest_clf, search_space, n_iter=32, scoring=\"accuracy\", n_jobs=-1, cv=5, verbose=False)"
      ],
      "execution_count": 26,
      "outputs": []
    },
    {
      "cell_type": "code",
      "metadata": {
        "id": "xUqG1Ik0nMTi",
        "colab_type": "code",
        "colab": {
          "base_uri": "https://localhost:8080/",
          "height": 366
        },
        "outputId": "7455e681-9887-4ec0-d52b-c5761e15da20"
      },
      "source": [
        "forest_bayes_search.fit(selected_scaled_train_x,train_y)"
      ],
      "execution_count": 27,
      "outputs": [
        {
          "output_type": "execute_result",
          "data": {
            "text/plain": [
              "BayesSearchCV(cv=5, error_score='raise',\n",
              "              estimator=RandomForestClassifier(bootstrap=True, ccp_alpha=0.0,\n",
              "                                               class_weight=None,\n",
              "                                               criterion='gini', max_depth=None,\n",
              "                                               max_features='auto',\n",
              "                                               max_leaf_nodes=None,\n",
              "                                               max_samples=None,\n",
              "                                               min_impurity_decrease=0.0,\n",
              "                                               min_impurity_split=None,\n",
              "                                               min_samples_leaf=1,\n",
              "                                               min_samples_split=2,\n",
              "                                               min_weight_fraction_leaf=0.0,\n",
              "                                               n_estimators=100, n_jobs=...\n",
              "              search_spaces={'bootstrap': Categorical(categories=(True, False), prior=None),\n",
              "                             'max_depth': Integer(low=1, high=30, prior='uniform', transform='identity'),\n",
              "                             'min_samples_leaf': Integer(low=1, high=20, prior='uniform', transform='identity'),\n",
              "                             'min_samples_split': Integer(low=2, high=20, prior='uniform', transform='identity'),\n",
              "                             'n_estimators': Integer(low=10, high=200, prior='uniform', transform='identity')},\n",
              "              verbose=False)"
            ]
          },
          "metadata": {
            "tags": []
          },
          "execution_count": 27
        }
      ]
    },
    {
      "cell_type": "code",
      "metadata": {
        "id": "HnW4bGTtnOTC",
        "colab_type": "code",
        "colab": {
          "base_uri": "https://localhost:8080/",
          "height": 164
        },
        "outputId": "37720d8c-c6d4-4a8d-b960-a1caf2658dd4"
      },
      "source": [
        "forest_bayes_search.best_estimator_"
      ],
      "execution_count": 28,
      "outputs": [
        {
          "output_type": "execute_result",
          "data": {
            "text/plain": [
              "RandomForestClassifier(bootstrap=True, ccp_alpha=0.0, class_weight=None,\n",
              "                       criterion='gini', max_depth=30, max_features='auto',\n",
              "                       max_leaf_nodes=None, max_samples=None,\n",
              "                       min_impurity_decrease=0.0, min_impurity_split=None,\n",
              "                       min_samples_leaf=1, min_samples_split=2,\n",
              "                       min_weight_fraction_leaf=0.0, n_estimators=200,\n",
              "                       n_jobs=None, oob_score=False, random_state=None,\n",
              "                       verbose=0, warm_start=False)"
            ]
          },
          "metadata": {
            "tags": []
          },
          "execution_count": 28
        }
      ]
    },
    {
      "cell_type": "code",
      "metadata": {
        "id": "135EBr85nP1x",
        "colab_type": "code",
        "colab": {
          "base_uri": "https://localhost:8080/",
          "height": 35
        },
        "outputId": "ae0c0ab6-acaf-4cc9-c600-b200d31c8f01"
      },
      "source": [
        "forest_bayes_search.best_score_"
      ],
      "execution_count": 29,
      "outputs": [
        {
          "output_type": "execute_result",
          "data": {
            "text/plain": [
              "0.945054945054945"
            ]
          },
          "metadata": {
            "tags": []
          },
          "execution_count": 29
        }
      ]
    },
    {
      "cell_type": "code",
      "metadata": {
        "id": "EW4W04qWwd4H",
        "colab_type": "code",
        "colab": {}
      },
      "source": [
        "selected_test_x = selector.transform(scaled_test_x)"
      ],
      "execution_count": 30,
      "outputs": []
    },
    {
      "cell_type": "code",
      "metadata": {
        "id": "n0FxXGbvvW-S",
        "colab_type": "code",
        "colab": {
          "base_uri": "https://localhost:8080/",
          "height": 72
        },
        "outputId": "37a3804c-182f-4609-a6cc-d3613f76b9bb"
      },
      "source": [
        "print(\"Performance miglior modello con k-fold: {}% (accuracy)\".format(round(forest_bayes_search.best_score_*100,2)))\n",
        "print(\"Performance miglior modello su test set: {}% (accuracy)\\n\".format(round(forest_bayes_search.score(selected_test_x,test_y)*100,2)))"
      ],
      "execution_count": 31,
      "outputs": [
        {
          "output_type": "stream",
          "text": [
            "Performance miglior modello con k-fold: 94.51% (accuracy)\n",
            "Performance miglior modello su test set: 96.7% (accuracy)\n",
            "\n"
          ],
          "name": "stdout"
        }
      ]
    },
    {
      "cell_type": "code",
      "metadata": {
        "id": "Ep4FF6vywSBR",
        "colab_type": "code",
        "colab": {}
      },
      "source": [
        "pred_y = forest_bayes_search.predict(selected_test_x)"
      ],
      "execution_count": 32,
      "outputs": []
    },
    {
      "cell_type": "code",
      "metadata": {
        "id": "_ia5QW9IzjQQ",
        "colab_type": "code",
        "colab": {
          "base_uri": "https://localhost:8080/",
          "height": 90
        },
        "outputId": "d94791d8-19ae-49d3-db63-278d56d22251"
      },
      "source": [
        "print('Matrice di confusione (test set):\\n{}\\n'.format(confusion_matrix(test_y, pred_y)))"
      ],
      "execution_count": 33,
      "outputs": [
        {
          "output_type": "stream",
          "text": [
            "Matrice di confusione (test set):\n",
            "[[56  1]\n",
            " [ 2 32]]\n",
            "\n"
          ],
          "name": "stdout"
        }
      ]
    },
    {
      "cell_type": "code",
      "metadata": {
        "id": "N_C9efSx6H6X",
        "colab_type": "code",
        "colab": {
          "base_uri": "https://localhost:8080/",
          "height": 279
        },
        "outputId": "0cd94dd2-86e2-47a2-a7da-1b6757f09c93"
      },
      "source": [
        "from sklearn.metrics import plot_confusion_matrix\n",
        "\n",
        "plot_confusion_matrix(forest_bayes_search, selected_test_x,test_y,\n",
        "                                 cmap=plt.cm.Blues)\n",
        "plt.show()"
      ],
      "execution_count": 34,
      "outputs": [
        {
          "output_type": "display_data",
          "data": {
            "image/png": "[encoded data removed]",
            "text/plain": [
              "<Figure size 432x288 with 2 Axes>"
            ]
          },
          "metadata": {
            "tags": [],
            "needs_background": "light"
          }
        }
      ]
    }
  ]
}